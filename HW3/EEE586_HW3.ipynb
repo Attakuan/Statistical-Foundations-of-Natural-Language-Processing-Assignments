{
 "cells": [
  {
   "cell_type": "code",
   "execution_count": 192,
   "metadata": {},
   "outputs": [
    {
     "name": "stderr",
     "output_type": "stream",
     "text": [
      "[nltk_data] Downloading package wordnet to\n",
      "[nltk_data]     C:\\Users\\ataka\\AppData\\Roaming\\nltk_data...\n",
      "[nltk_data]   Package wordnet is already up-to-date!\n",
      "[nltk_data] Downloading package punkt to\n",
      "[nltk_data]     C:\\Users\\ataka\\AppData\\Roaming\\nltk_data...\n",
      "[nltk_data]   Package punkt is already up-to-date!\n",
      "[nltk_data] Downloading package averaged_perceptron_tagger to\n",
      "[nltk_data]     C:\\Users\\ataka\\AppData\\Roaming\\nltk_data...\n",
      "[nltk_data]   Package averaged_perceptron_tagger is already up-to-\n",
      "[nltk_data]       date!\n",
      "[nltk_data] Downloading package universal_tagset to\n",
      "[nltk_data]     C:\\Users\\ataka\\AppData\\Roaming\\nltk_data...\n",
      "[nltk_data]   Package universal_tagset is already up-to-date!\n"
     ]
    }
   ],
   "source": [
    "import nltk\n",
    "nltk.download('wordnet')\n",
    "nltk.download('punkt')\n",
    "nltk.download('averaged_perceptron_tagger')\n",
    "nltk.download('universal_tagset')\n",
    "import time\n",
    "import numpy as np\n",
    "import custom_lemmatizer\n",
    "import pandas as pd\n",
    "from scipy.stats import binom\n",
    "import math\n",
    "from scipy.stats import chi2"
   ]
  },
  {
   "cell_type": "code",
   "execution_count": 2,
   "metadata": {},
   "outputs": [
    {
     "name": "stdout",
     "output_type": "stream",
     "text": [
      "The nltk version is 3.8.1.\n"
     ]
    }
   ],
   "source": [
    "print('The nltk version is {}.'.format(nltk.__version__)) # check version"
   ]
  },
  {
   "attachments": {},
   "cell_type": "markdown",
   "metadata": {},
   "source": [
    "Part 1"
   ]
  },
  {
   "cell_type": "code",
   "execution_count": 2,
   "metadata": {},
   "outputs": [],
   "source": [
    "with open('Fyodor Dostoyevski Processed.txt', 'r') as file:\n",
    "    CorpusData = file.read()\n",
    "words = nltk.word_tokenize(CorpusData)\n",
    "tagged_Corpus = nltk.pos_tag(words, tagset=\"universal\")"
   ]
  },
  {
   "cell_type": "code",
   "execution_count": 264,
   "metadata": {},
   "outputs": [
    {
     "name": "stdout",
     "output_type": "stream",
     "text": [
      "The total number of words in the corpus is 1425758.\n"
     ]
    }
   ],
   "source": [
    "#what is the total number of words in the corpus?\n",
    "total_words = len(words)\n",
    "print('The total number of words in the corpus is {}.'.format(total_words))"
   ]
  },
  {
   "cell_type": "code",
   "execution_count": 256,
   "metadata": {},
   "outputs": [
    {
     "name": "stdout",
     "output_type": "stream",
     "text": [
      "1.989999771118164 seconds lemmatization time!\n"
     ]
    }
   ],
   "source": [
    "lemmatizer = custom_lemmatizer.custom_lemmatizer()\n",
    "lemmaized_tokens = []\n",
    "\n",
    "start_time = time.time()\n",
    "for t in tagged_Corpus:\n",
    "\n",
    "    lemmaized_tokens.append((lemmatizer.lemmatize(t), t[1]))\n",
    "\n",
    "print(\"%s seconds lemmatization time!\" % (time.time() - start_time))"
   ]
  },
  {
   "cell_type": "code",
   "execution_count": 269,
   "metadata": {},
   "outputs": [
    {
     "name": "stdout",
     "output_type": "stream",
     "text": [
      "The count of \"that\" after lemmatization is 19429.\n",
      "The count of \"the\" after lemmatization is 48392.\n",
      "The count of \"abject\" after lemmatization is 21.\n",
      "The count of \"london\" after lemmatization is 2.\n",
      "The count of \".\" after lemmatization is 51738.\n"
     ]
    }
   ],
   "source": [
    "that_count = 0\n",
    "for t in lemmaized_tokens:\n",
    "    if t[0] == 'that':\n",
    "        that_count += 1\n",
    "print('The count of \"that\" after lemmatization is {}.'.format(that_count))\n",
    "\n",
    "that_count = 0\n",
    "for t in lemmaized_tokens:\n",
    "    if t[0] == 'the':\n",
    "        that_count += 1\n",
    "print('The count of \"the\" after lemmatization is {}.'.format(that_count))\n",
    "\n",
    "that_count = 0\n",
    "for t in lemmaized_tokens:\n",
    "    if t[0] == 'abject':\n",
    "        that_count += 1\n",
    "print('The count of \"abject\" after lemmatization is {}.'.format(that_count))\n",
    "\n",
    "that_count = 0\n",
    "for t in lemmaized_tokens:\n",
    "    if t[0] == 'london':\n",
    "        that_count += 1\n",
    "print('The count of \"london\" after lemmatization is {}.'.format(that_count))\n",
    "that_count = 0\n",
    "for t in lemmaized_tokens:\n",
    "    if t[0] == '.':\n",
    "        that_count += 1\n",
    "print('The count of \".\" after lemmatization is {}.'.format(that_count))"
   ]
  },
  {
   "cell_type": "code",
   "execution_count": 272,
   "metadata": {},
   "outputs": [
    {
     "name": "stdout",
     "output_type": "stream",
     "text": [
      "1.3456499576568604 seconds bigram creation time!\n",
      "Size of bigrams_size1: 1425757\n",
      "Size of bigrams_size2: 4277268\n"
     ]
    }
   ],
   "source": [
    "import time\n",
    "\n",
    "start_time = time.time()\n",
    "\n",
    "bigrams_size1 = [(lemmaized_tokens[i], lemmaized_tokens[i + 1]) for i in range(len(lemmaized_tokens) - 1)]\n",
    "\n",
    "bigrams_size2 = [(lemmaized_tokens[i], lemmaized_tokens[i + j]) for i in range(len(lemmaized_tokens) - 3) for j in range(1, 4)]\n",
    "bigrams_size2 += [(lemmaized_tokens[-3], lemmaized_tokens[-2]), (lemmaized_tokens[-3], lemmaized_tokens[-1]), \n",
    "              (lemmaized_tokens[-2], lemmaized_tokens[-1])]\n",
    "\n",
    "print(f\"{time.time() - start_time} seconds bigram creation time!\")\n",
    "print(f\"Size of bigrams_size1: {len(bigrams_size1)}\")\n",
    "print(f\"Size of bigrams_size2: {len(bigrams_size2)}\")"
   ]
  },
  {
   "cell_type": "code",
   "execution_count": 275,
   "metadata": {},
   "outputs": [
    {
     "name": "stdout",
     "output_type": "stream",
     "text": [
      "The count of (\"magnificent\",\"capital\") in windows of size 1 is 1.\n",
      "The count of (\"bright\",\"fire\") in windows of size 1 is 1.\n"
     ]
    }
   ],
   "source": [
    "bigram_count = 0\n",
    "for i in range(len(bigrams_size1)):\n",
    "    if bigrams_size1[i][0][0] == 'magnificent' and bigrams_size1[i][1][0] == 'capital':\n",
    "        bigram_count += 1\n",
    "print('The count of (\"magnificent\",\"capital\") in windows of size 1 is {}.'.format(bigram_count))\n",
    "\n",
    "\n",
    "bigram_count = 0\n",
    "for i in range(len(bigrams_size2)):\n",
    "    if bigrams_size2[i][0][0] == 'bright' and bigrams_size2[i][1][0] == 'fire':\n",
    "        bigram_count += 1\n",
    "print('The count of (\"bright\",\"fire\") in windows of size 1 is {}.'.format(bigram_count))"
   ]
  },
  {
   "cell_type": "code",
   "execution_count": 276,
   "metadata": {},
   "outputs": [],
   "source": [
    "#Eliminate all bigrams except those with POS tags NOUN-NOUN or ADJ-NOUN.\n",
    "unigrams=[b for b in lemmaized_tokens if b[1] == 'NOUN' or b[1] == 'ADJ']\n",
    "bigrams_size1 = [b for b in bigrams_size1 if (b[0][1] == 'NOUN' and b[1][1] == 'NOUN') or (b[0][1] == 'ADJ' and b[1][1] == 'NOUN')]\n",
    "bigrams_size2 = [b for b in bigrams_size2 if (b[0][1] == 'NOUN' and b[1][1] == 'NOUN') or (b[0][1] == 'ADJ' and b[1][1] == 'NOUN')]\n",
    "\n",
    "#Eliminate bigrams that include stopwords\n",
    "stopwords = [\"i\", \"me\", \"my\", \"myself\", \"we\", \"our\", \"ours\", \"ourselves\", \"you\", \"your\", \"yours\", \"yourself\", \"yourselves\", \"he\", \"him\", \"his\", \"himself\", \"she\", \"her\", \"hers\", \"herself\", \"it\", \"its\", \"itself\", \"they\", \"them\", \"their\", \"theirs\", \"themselves\", \"what\", \"which\", \"who\", \"whom\", \"this\", \"that\", \"these\", \"those\", \"am\", \"is\", \"are\", \"was\", \"were\", \"be\", \"been\", \"being\", \"have\", \"has\", \"had\", \"having\", \"do\", \"does\", \"did\", \"doing\", \"a\", \"an\", \"the\", \"and\", \"but\", \"if\", \"or\", \"because\", \"as\", \"until\", \"while\", \"of\", \"at\", \"by\", \"for\", \"with\", \"about\", \"against\", \"between\", \"into\", \"through\", \"during\", \"before\", \"after\", \"above\", \"below\", \"to\", \"from\", \"up\", \"down\", \"in\", \"out\", \"on\", \"off\", \"over\", \"under\", \"again\", \"further\", \"then\", \"once\", \"here\", \"there\", \"when\", \"where\", \"why\", \"how\", \"all\", \"any\", \"both\", \"each\", \"few\", \"more\", \"most\", \"other\", \"some\", \"such\", \"no\", \"nor\", \"not\", \"only\", \"own\", \"same\", \"so\", \"than\", \"too\", \"very\", \"s\", \"t\", \"can\", \"will\", \"just\", \"don\", \"should\", \"now\"]\n",
    "#Eliminate bigrams that include stopwords\n",
    "unigrams = [b for b in unigrams if b[0] not in stopwords]\n",
    "bigrams_size1 = [b for b in bigrams_size1 if b[0][0] not in stopwords and b[1][0] not in stopwords]\n",
    "bigrams_size2 = [b for b in bigrams_size2 if b[0][0] not in stopwords and b[1][0] not in stopwords]\n",
    "#Eliminate bigrams including any punctuation marks. (Hint: You can use the isalpha() function).\n",
    "\n",
    "unigrams = [b for b in unigrams if b[0].isalpha()]\n",
    "bigrams_size1 = [b for b in bigrams_size1 if b[0][0].isalpha() and b[1][0].isalpha()]\n",
    "bigrams_size2 = [b for b in bigrams_size2 if b[0][0].isalpha() and b[1][0].isalpha()]\n",
    "\n",
    "#remove POS tags from bigrams\n",
    "bigrams_size1 = [(b[0][0], b[1][0]) for b in bigrams_size1]\n",
    "bigrams_size2 = [(b[0][0], b[1][0]) for b in bigrams_size2]\n",
    "\n",
    "\n",
    "#create panda dataframe for unigrams with single column\n",
    "unigrams = pd.DataFrame(unigrams, columns=['words', 'POS'])\n",
    "#convert bigrams to a pandas dataframe\n",
    "bigrams_size1 = pd.DataFrame(bigrams_size1, columns=['word1', 'word2'])\n",
    "bigrams_size2 = pd.DataFrame(bigrams_size2, columns=['word1', 'word2'])\n",
    "\n",
    "#count the words in uni-grams. Reorder from most frequent to least frequent.\n",
    "unigrams = unigrams.groupby(['words']).size().reset_index(name='counts')\n",
    "unigrams = unigrams.sort_values(by=['counts'], ascending=False)\n",
    "unigrams = unigrams[unigrams['counts'] >= 10]\n",
    "#Eliminate bigrams that occur less than 10 times.\n",
    "bigrams_size1 = bigrams_size1.groupby(['word1', 'word2']).size().reset_index(name='counts')\n",
    "bigrams_size1 = bigrams_size1.sort_values(by=['counts'], ascending=False)\n",
    "bigrams_size1 = bigrams_size1[bigrams_size1['counts'] >= 10]\n",
    "bigrams_size2 = bigrams_size2.groupby(['word1', 'word2']).size().reset_index(name='counts')\n",
    "bigrams_size2 = bigrams_size2.sort_values(by=['counts'], ascending=False)\n",
    "bigrams_size2 = bigrams_size2[bigrams_size2['counts'] >= 10]    \n"
   ]
  },
  {
   "cell_type": "code",
   "execution_count": 281,
   "metadata": {},
   "outputs": [
    {
     "name": "stdout",
     "output_type": "stream",
     "text": [
      "The count of (\"mr.\",\"skimpole\") in windows of size 1 is 0.\n",
      "The count of (\"spontaneous.\",\"combustion\") in windows of size 3 is 0.\n"
     ]
    }
   ],
   "source": [
    "bigram_count = 0\n",
    "for i in range(len(bigrams_size1)):\n",
    "    if bigrams_size1.iloc[i][0] == 'mr.' and bigrams_size1.iloc[i][1] == 'skimpole':\n",
    "        bigram_count += 1\n",
    "print('The count of (\"mr.\",\"skimpole\") in windows of size 1 is {}.'.format(bigram_count))\n",
    "\n",
    "\n",
    "bigram_count = 0\n",
    "for i in range(len(bigrams_size2)):\n",
    "    if bigrams_size2.iloc[i][0] == 'spontaneous' and bigrams_size2.iloc[i][1] == 'combustion':\n",
    "        bigram_count += 1\n",
    "print('The count of (\"spontaneous.\",\"combustion\") in windows of size 3 is {}.'.format(bigram_count))"
   ]
  },
  {
   "attachments": {},
   "cell_type": "markdown",
   "metadata": {},
   "source": [
    "Part 2"
   ]
  },
  {
   "cell_type": "code",
   "execution_count": 300,
   "metadata": {},
   "outputs": [],
   "source": [
    "import pandas as pd\n",
    "import numpy as np\n",
    "\n",
    "def student_t_test(bigram_counts, unigrams, alpha=0.005):\n",
    "    unigram_total = unigrams['counts'].sum()\n",
    "    for row in bigram_counts.iterrows():\n",
    "        \n",
    "        H0 = unigrams[unigrams['words'] == row[1]['word1']]['counts'].values[0] * unigrams[unigrams['words'] == row[1]['word2']]['counts'].values[0] / (unigram_total * unigram_total)\n",
    "        MLE = row[1]['counts'] / unigram_total\n",
    "\n",
    "        t = (MLE - H0) / np.sqrt(MLE / unigram_total)\n",
    "        #save the t value in the bigram_counts dataframe\n",
    "        bigram_counts.loc[row[0], 't-score'] = t\n",
    "\n",
    "    return bigram_counts\n",
    "\n",
    "bigrams_size1_t_test = student_t_test(bigrams_size1, unigrams)\n",
    "bigrams_size2_t_test = student_t_test(bigrams_size2, unigrams)"
   ]
  },
  {
   "cell_type": "code",
   "execution_count": 301,
   "metadata": {},
   "outputs": [
    {
     "name": "stdout",
     "output_type": "stream",
     "text": [
      "The top 20 bigrams in windows of size 1 are:\n",
      "           word1            word2  counts    t-score\n",
      "17254      pyotr     stepanovitch     427  20.596348\n",
      "20396     stepan     trofimovitch     412  20.255550\n",
      "23195    varvara         petrovna     331  18.152786\n",
      "15141        old              man     289  16.193509\n",
      "7435      fyodor       pavlovitch     246  15.654434\n",
      "10934   katerina         ivanovna     229  15.092046\n",
      "24386      young              man     232  14.716428\n",
      "14260   nastasia       philipovna     215  14.638661\n",
      "14724    nikolay  vsyevolodovitch     198  14.041475\n",
      "15247        old            woman     208  14.031270\n",
      "8321       great             deal     164  12.724990\n",
      "17253      pyotr       petrovitch     143  11.882136\n",
      "12244  lizabetha      prokofievna     136  11.652786\n",
      "12567       long             time     143  11.458258\n",
      "4401      dmitri     fyodorovitch     126  11.185020\n",
      "14637       next              day     117  10.608096\n",
      "15127        old             lady     119  10.573032\n",
      "6678       first             time     130  10.421459\n",
      "5310     evgenie       pavlovitch     106  10.266672\n",
      "24450      yulia       mihailovna     105  10.238928\n"
     ]
    }
   ],
   "source": [
    "bigrams_size1_t_test = bigrams_size1_t_test.sort_values(by=['t-score'], ascending=False)\n",
    "print('The top 20 bigrams in windows of size 1 are:')\n",
    "print(bigrams_size1_t_test.head(20))"
   ]
  },
  {
   "cell_type": "code",
   "execution_count": 302,
   "metadata": {},
   "outputs": [
    {
     "name": "stdout",
     "output_type": "stream",
     "text": [
      "The top 20 bigrams in windows of size 1 are:\n",
      "           word1            word2  counts    t-score  word1_count  word2_count\n",
      "17254      pyotr     stepanovitch     427  20.596348          701          502\n",
      "20396     stepan     trofimovitch     412  20.255550          430          502\n",
      "23195    varvara         petrovna     331  18.152786          379          491\n",
      "15141        old              man     289  16.193509         1356         2546\n",
      "7435      fyodor       pavlovitch     246  15.654434          260          455\n",
      "10934   katerina         ivanovna     229  15.092046          253          613\n",
      "24386      young              man     232  14.716428          776         2546\n",
      "14260   nastasia       philipovna     215  14.638661          362          247\n",
      "14724    nikolay  vsyevolodovitch     198  14.041475          354          298\n",
      "15247        old            woman     208  14.031270         1356         1047\n",
      "8321       great             deal     164  12.724990         1202          218\n",
      "17253      pyotr       petrovitch     143  11.882136          701          327\n",
      "12244  lizabetha      prokofievna     136  11.652786          153          175\n",
      "12567       long             time     143  11.458258          574         2623\n",
      "4401      dmitri     fyodorovitch     126  11.185020          354          319\n",
      "14637       next              day     117  10.608096          332         1711\n",
      "15127        old             lady     119  10.573032         1356          680\n",
      "6678       first             time     130  10.421459         1073         2623\n",
      "5310     evgenie       pavlovitch     106  10.266672          165          455\n",
      "24450      yulia       mihailovna     105  10.238928          115          180\n"
     ]
    }
   ],
   "source": [
    "#find the occurance of word1 and word2 in the unigrams dataframe\n",
    "bigrams_size1_t_test['word1_count'] = bigrams_size1_t_test.apply(lambda row: unigrams[unigrams['words'] == row['word1']]['counts'].values[0], axis=1)\n",
    "bigrams_size1_t_test['word2_count'] = bigrams_size1_t_test.apply(lambda row: unigrams[unigrams['words'] == row['word2']]['counts'].values[0], axis=1)\n",
    "print('The top 20 bigrams in windows of size 1 are:')\n",
    "print(bigrams_size1_t_test.head(20))"
   ]
  },
  {
   "cell_type": "code",
   "execution_count": 303,
   "metadata": {},
   "outputs": [
    {
     "name": "stdout",
     "output_type": "stream",
     "text": [
      "The top 20 bigrams in windows of size 3 are:\n",
      "           word1            word2  counts    t-score  word1_count  word2_count\n",
      "58985      pyotr     stepanovitch     427  20.596348          701          502\n",
      "70667     stepan     trofimovitch     412  20.255550          430          502\n",
      "79235    varvara         petrovna     331  18.152786          379          491\n",
      "51320        old              man     290  16.224287         1356         2546\n",
      "26366     fyodor       pavlovitch     246  15.654434          260          455\n",
      "37238   katerina         ivanovna     229  15.092046          253          613\n",
      "83930      young              man     234  14.784147          776         2546\n",
      "48499   nastasia       philipovna     215  14.638661          362          247\n",
      "51481        old            woman     215  14.278359         1356         1047\n",
      "49751    nikolay  vsyevolodovitch     198  14.041475          354          298\n",
      "28920      great             deal     165  12.764221         1202          218\n",
      "50655          o            clock     157  12.518405          194          188\n",
      "29888         ha               ha     144  11.980779          241          241\n",
      "58974      pyotr       petrovitch     143  11.882136          701          327\n",
      "41331  lizabetha      prokofievna     136  11.652786          153          175\n",
      "42014       long             time     147  11.631202          574         2623\n",
      "16696     dmitri     fyodorovitch     126  11.185020          354          319\n",
      "49366       next              day     119  10.701915          332         1711\n",
      "51301        old             lady     119  10.573032         1356          680\n",
      "75032   thousand           rouble     112  10.496407          425          543\n"
     ]
    }
   ],
   "source": [
    "#do the same for bigrams in windows of size 3\n",
    "bigrams_size2_t_test = bigrams_size2_t_test.sort_values(by=['t-score'], ascending=False)\n",
    "bigrams_size2_t_test['word1_count'] = bigrams_size2_t_test.apply(lambda row: unigrams[unigrams['words'] == row['word1']]['counts'].values[0], axis=1)\n",
    "bigrams_size2_t_test['word2_count'] = bigrams_size2_t_test.apply(lambda row: unigrams[unigrams['words'] == row['word2']]['counts'].values[0], axis=1)\n",
    "print('The top 20 bigrams in windows of size 3 are:')\n",
    "print(bigrams_size2_t_test.head(20))\n"
   ]
  },
  {
   "cell_type": "code",
   "execution_count": 304,
   "metadata": {},
   "outputs": [],
   "source": [
    "\n",
    "\n",
    "def pearson_chi_test(bigram_counts, unigrams, alpha=0.005):\n",
    "    unigram_total = unigrams['counts'].sum()\n",
    "    bigram_counts['expected'] = bigram_counts.apply(lambda row: \n",
    "                                        unigrams[unigrams['words'] == row['word1']]['counts'].values[0] * \n",
    "                                        unigrams[unigrams['words'] == row['word2']]['counts'].values[0] / \n",
    "                                        unigram_total, axis=1)\n",
    "    \n",
    "    bigram_counts['chi-square'] = np.power((bigram_counts['counts'] - bigram_counts['expected']), 2) / bigram_counts['expected']\n",
    "    \n",
    "        \n",
    "    return bigram_counts\n",
    "\n"
   ]
  },
  {
   "cell_type": "code",
   "execution_count": 305,
   "metadata": {},
   "outputs": [],
   "source": [
    "bigrams_size1_chi = pearson_chi_test(bigrams_size1_t_test, unigrams)\n",
    "bigrams_size2_chi = pearson_chi_test(bigrams_size2_t_test, unigrams)"
   ]
  },
  {
   "cell_type": "code",
   "execution_count": 308,
   "metadata": {},
   "outputs": [],
   "source": [
    "#reorder the bigrams by chi-square value\n",
    "bigrams_size1_chi = bigrams_size1_chi.sort_values(by=['chi-square'], ascending=False)\n",
    "bigrams_size2_chi = bigrams_size2_chi.sort_values(by=['chi-square'], ascending=False)\n"
   ]
  },
  {
   "cell_type": "code",
   "execution_count": 309,
   "metadata": {},
   "outputs": [
    {
     "name": "stdout",
     "output_type": "stream",
     "text": [
      "The top 20 bigrams in windows of size 1 are:\n",
      "           word1           word2  counts    t-score  word1_count  word2_count  \\\n",
      "13538     mihail     makarovitch      20   4.471726           22           21   \n",
      "18163     rodion     romanovitch      80   8.940855           95           81   \n",
      "11554        lef   nicolaievitch      33   5.743619           35           39   \n",
      "22084     trifon    borissovitch      35   5.915033           40           39   \n",
      "20396     stepan    trofimovitch     412  20.255550          430          502   \n",
      "819      avdotya       romanovna      86   9.269403           92          107   \n",
      "14711    nikodim         fomitch      19   4.358449           19           26   \n",
      "7480     gavrila  ardalionovitch      49   6.998099           50           67   \n",
      "10662    ippolit    kirillovitch      31   5.566789           38           36   \n",
      "12244  lizabetha     prokofievna     136  11.652786          153          175   \n",
      "18803     semyon    yakovlevitch      33   5.743437           44           37   \n",
      "13277    mavriky    nikolaevitch      96   9.792194          112          127   \n",
      "23195    varvara        petrovna     331  18.152786          379          491   \n",
      "24450      yulia      mihailovna     105  10.238928          115          180   \n",
      "484       andrey     antonovitch      67   8.181137          110           79   \n",
      "14260   nastasia      philipovna     215  14.638661          362          247   \n",
      "17254      pyotr    stepanovitch     427  20.596348          701          502   \n",
      "7435      fyodor      pavlovitch     246  15.654434          260          455   \n",
      "16915   printing           press      10   3.162015           11           19   \n",
      "3532       daria      alexeyevna      14   3.741212           20           21   \n",
      "\n",
      "       expected     chi-square  \n",
      "13538  0.001835  217975.586250  \n",
      "18163  0.030559  209270.985725  \n",
      "11554  0.005421  200826.981245  \n",
      "22084  0.006195  197663.852349  \n",
      "20396  0.857240  197188.981543  \n",
      "819    0.039093  189016.577086  \n",
      "14711  0.001962  183975.540423  \n",
      "7480   0.013304  180376.941065  \n",
      "10662  0.005433  176829.444029  \n",
      "12244  0.106331  173675.473950  \n",
      "18803  0.006465  168373.141600  \n",
      "13277  0.056487  162959.246589  \n",
      "23195  0.739011  147592.189178  \n",
      "24450  0.082205  133905.212640  \n",
      "484    0.034510  129942.687215  \n",
      "14260  0.355088  129749.351666  \n",
      "17254  1.397501  129615.257394  \n",
      "7435   0.469802  128320.075280  \n",
      "16915  0.000830  120462.297481  \n",
      "3532   0.001668  117482.401668  \n"
     ]
    }
   ],
   "source": [
    "print('The top 20 bigrams in windows of size 1 are:')\n",
    "print(bigrams_size1_chi.head(20))"
   ]
  },
  {
   "cell_type": "code",
   "execution_count": 310,
   "metadata": {},
   "outputs": [
    {
     "name": "stdout",
     "output_type": "stream",
     "text": [
      "The top 20 bigrams in windows of size 3 are:\n",
      "           word1           word2  counts    t-score  word1_count  word2_count  \\\n",
      "45464     mihail     makarovitch      20   4.471726           22           21   \n",
      "62183     rodion     romanovitch      80   8.940855           95           81   \n",
      "39460        lef   nicolaievitch      33   5.743619           35           39   \n",
      "76729     trifon    borissovitch      35   5.915033           40           39   \n",
      "70667     stepan    trofimovitch     412  20.255550          430          502   \n",
      "3791     avdotya       romanovna      86   9.269403           92          107   \n",
      "49655    nikodim         fomitch      19   4.358449           19           26   \n",
      "26705    gavrila  ardalionovitch      49   6.998099           50           67   \n",
      "36251    ippolit    kirillovitch      31   5.566789           38           36   \n",
      "41331  lizabetha     prokofievna     136  11.652786          153          175   \n",
      "82319       wisp             tow      14   3.741352           18           16   \n",
      "50655          o           clock     157  12.518405          194          188   \n",
      "64615     semyon    yakovlevitch      33   5.743437           44           37   \n",
      "44546    mavriky    nikolaevitch      96   9.792194          112          127   \n",
      "79235    varvara        petrovna     331  18.152786          379          491   \n",
      "84079      yulia      mihailovna     105  10.238928          115          180   \n",
      "2102      andrey     antonovitch      67   8.181137          110           79   \n",
      "48499   nastasia      philipovna     215  14.638661          362          247   \n",
      "58985      pyotr    stepanovitch     427  20.596348          701          502   \n",
      "26366     fyodor      pavlovitch     246  15.654434          260          455   \n",
      "\n",
      "       expected     chi-square  \n",
      "45464  0.001835  217975.586250  \n",
      "62183  0.030559  209270.985725  \n",
      "39460  0.005421  200826.981245  \n",
      "76729  0.006195  197663.852349  \n",
      "70667  0.857240  197188.981543  \n",
      "3791   0.039093  189016.577086  \n",
      "49655  0.001962  183975.540423  \n",
      "26705  0.013304  180376.941065  \n",
      "36251  0.005433  176829.444029  \n",
      "41331  0.106331  173675.473950  \n",
      "82319  0.001144  171341.334477  \n",
      "50655  0.144841  169866.430868  \n",
      "64615  0.006465  168373.141600  \n",
      "44546  0.056487  162959.246589  \n",
      "79235  0.739011  147592.189178  \n",
      "84079  0.082205  133905.212640  \n",
      "2102   0.034510  129942.687215  \n",
      "48499  0.355088  129749.351666  \n",
      "58985  1.397501  129615.257394  \n",
      "26366  0.469802  128320.075280  \n"
     ]
    }
   ],
   "source": [
    "print('The top 20 bigrams in windows of size 3 are:')\n",
    "print(bigrams_size2_chi.head(20))\n"
   ]
  },
  {
   "cell_type": "code",
   "execution_count": 314,
   "metadata": {},
   "outputs": [],
   "source": [
    "def likelihood_ratio_test(bigram_counts, unigrams, alpha=0.05):\n",
    "    # Compute total counts\n",
    "    unigram_total = unigrams['counts'].sum()\n",
    "    bigram_total = bigram_counts['counts'].sum()\n",
    "\n",
    "    for idx, row in bigram_counts.iterrows():\n",
    "        # Extract counts and calculate probabilities for hypothesis tests\n",
    "        c_12, c_1, c_2 = row['counts'], unigrams.loc[unigrams['words'] == row['word1'], 'counts'].values[0], unigrams.loc[unigrams['words'] == row['word2'], 'counts'].values[0]\n",
    "        N = unigram_total\n",
    "        H1_p = c_2 / N\n",
    "        H2_p1 = c_12 / c_1\n",
    "        H2_p2 = (c_2 - c_12) / (N - c_1)\n",
    "\n",
    "        # Calculate the terms in the likelihood ratio test\n",
    "        H1_term_1 = binom.pmf(c_12, c_1, H1_p)\n",
    "        H1_term_2 = binom.pmf(c_2 - c_12, N - c_1, H1_p)\n",
    "        H2_term_1 = binom.pmf(c_12, c_1, H2_p1)\n",
    "        H2_term_2 = binom.pmf(c_2 - c_12, N - c_1, H2_p2)\n",
    "\n",
    "        # Check for values of zero and use a small value instead\n",
    "        H1_term_1 = H1_term_1 if H1_term_1 != 0 else math.ulp(0.0)\n",
    "        H1_term_2 = H1_term_2 if H1_term_2 != 0 else math.ulp(0.0)\n",
    "        H2_term_1 = H2_term_1 if H2_term_1 != 0 else math.ulp(0.0)\n",
    "        H2_term_2 = H2_term_2 if H2_term_2 != 0 else math.ulp(0.0)\n",
    "\n",
    "        # Calculate the likelihood ratio and the corresponding score\n",
    "        log_L_H1 = math.log(H1_term_1) + math.log(H1_term_2)\n",
    "        log_L_H2 = math.log(H2_term_1) + math.log(H2_term_2)\n",
    "        log_likelihood_ratio = log_L_H1 - log_L_H2\n",
    "        likelihood_ratio_score = -2 * log_likelihood_ratio\n",
    "\n",
    "        # Store the likelihood ratio score in the bigram_counts dataframe\n",
    "        bigram_counts.loc[idx, 'likelihood_ratio_score'] = likelihood_ratio_score\n",
    "\n",
    "    return bigram_counts\n"
   ]
  },
  {
   "cell_type": "code",
   "execution_count": 315,
   "metadata": {},
   "outputs": [],
   "source": [
    "bigrams_size1_likelihood=likelihood_ratio_test(bigrams_size1_chi, unigrams)\n",
    "bigrams_size2_likelihood=likelihood_ratio_test(bigrams_size2_chi, unigrams)"
   ]
  },
  {
   "cell_type": "code",
   "execution_count": 316,
   "metadata": {},
   "outputs": [],
   "source": [
    "#reorder according to likelihood ratio score\n",
    "bigrams_size1_likelihood=bigrams_size1_likelihood.sort_values(by='likelihood_ratio_score', ascending=False)\n",
    "bigrams_size2_likelihood=bigrams_size2_likelihood.sort_values(by='likelihood_ratio_score', ascending=False)"
   ]
  },
  {
   "cell_type": "code",
   "execution_count": 317,
   "metadata": {},
   "outputs": [
    {
     "name": "stdout",
     "output_type": "stream",
     "text": [
      "The top 20 bigrams in windows of size 1 are:\n",
      "           word1            word2  counts    t-score  word1_count  \\\n",
      "17254      pyotr     stepanovitch     427  20.596348          701   \n",
      "20396     stepan     trofimovitch     412  20.255550          430   \n",
      "23195    varvara         petrovna     331  18.152786          379   \n",
      "14260   nastasia       philipovna     215  14.638661          362   \n",
      "14724    nikolay  vsyevolodovitch     198  14.041475          354   \n",
      "7435      fyodor       pavlovitch     246  15.654434          260   \n",
      "12244  lizabetha      prokofievna     136  11.652786          153   \n",
      "10934   katerina         ivanovna     229  15.092046          253   \n",
      "8321       great             deal     164  12.724990         1202   \n",
      "24450      yulia       mihailovna     105  10.238928          115   \n",
      "13277    mavriky     nikolaevitch      96   9.792194          112   \n",
      "819      avdotya        romanovna      86   9.269403           92   \n",
      "18163     rodion      romanovitch      80   8.940855           95   \n",
      "15141        old              man     289  16.193509         1356   \n",
      "4401      dmitri     fyodorovitch     126  11.185020          354   \n",
      "17253      pyotr       petrovitch     143  11.882136          701   \n",
      "24386      young              man     232  14.716428          776   \n",
      "15247        old            woman     208  14.031270         1356   \n",
      "5310     evgenie       pavlovitch     106  10.266672          165   \n",
      "17197  pulcheria     alexandrovna      84   9.154759          117   \n",
      "\n",
      "       word2_count   expected     chi-square  likelihood_ratio_score  \n",
      "17254          502   1.397501  129615.257394             2049.102849  \n",
      "20396          502   0.857240  197188.981543             1998.069682  \n",
      "23195          491   0.739011  147592.189178             1785.934891  \n",
      "14260          247   0.355088  129749.351666             1781.342890  \n",
      "14724          298   0.418938   93183.845170             1659.786223  \n",
      "7435           455   0.469802  128320.075280             1650.990245  \n",
      "12244          175   0.106331  173675.473950             1639.129566  \n",
      "10934          613   0.615902   84687.683108             1582.494087  \n",
      "8321           218   1.040618   25519.214304             1532.790675  \n",
      "24450          180   0.082205  133905.212640             1531.818564  \n",
      "13277          127   0.056487  162959.246589             1470.378026  \n",
      "819            107   0.039093  189016.577086             1394.560562  \n",
      "18163           81   0.030559  209270.985725             1355.030643  \n",
      "15141         2546  13.710351    5527.531163             1303.475446  \n",
      "4401           319   0.448461   35149.541283             1278.534223  \n",
      "17253          327   0.910325   22178.327775             1266.757179  \n",
      "24386         2546   7.846041    6403.865899             1216.645321  \n",
      "15247         1047   5.638153    7263.073218             1170.477602  \n",
      "5310           455   0.298144   37474.807474             1150.846670  \n",
      "17197          205   0.095251   73909.945908             1096.267876  \n"
     ]
    }
   ],
   "source": [
    "print('The top 20 bigrams in windows of size 1 are:')\n",
    "print(bigrams_size1_likelihood.head(20))"
   ]
  },
  {
   "cell_type": "code",
   "execution_count": 319,
   "metadata": {},
   "outputs": [
    {
     "name": "stdout",
     "output_type": "stream",
     "text": [
      "The top 20 bigrams in windows of size 3 are:\n",
      "           word1            word2  counts    t-score  word1_count  \\\n",
      "58985      pyotr     stepanovitch     427  20.596348          701   \n",
      "70667     stepan     trofimovitch     412  20.255550          430   \n",
      "79235    varvara         petrovna     331  18.152786          379   \n",
      "48499   nastasia       philipovna     215  14.638661          362   \n",
      "50655          o            clock     157  12.518405          194   \n",
      "49751    nikolay  vsyevolodovitch     198  14.041475          354   \n",
      "26366     fyodor       pavlovitch     246  15.654434          260   \n",
      "41331  lizabetha      prokofievna     136  11.652786          153   \n",
      "29888         ha               ha     144  11.980779          241   \n",
      "37238   katerina         ivanovna     229  15.092046          253   \n",
      "28920      great             deal     165  12.764221         1202   \n",
      "84079      yulia       mihailovna     105  10.238928          115   \n",
      "44546    mavriky     nikolaevitch      96   9.792194          112   \n",
      "3791     avdotya        romanovna      86   9.269403           92   \n",
      "62183     rodion      romanovitch      80   8.940855           95   \n",
      "51320        old              man     290  16.224287         1356   \n",
      "16696     dmitri     fyodorovitch     126  11.185020          354   \n",
      "58974      pyotr       petrovitch     143  11.882136          701   \n",
      "83930      young              man     234  14.784147          776   \n",
      "51481        old            woman     215  14.278359         1356   \n",
      "\n",
      "       word2_count   expected     chi-square  likelihood_ratio_score  \n",
      "58985          502   1.397501  129615.257394             2049.102849  \n",
      "70667          502   0.857240  197188.981543             1998.069682  \n",
      "79235          491   0.739011  147592.189178             1785.934891  \n",
      "48499          247   0.355088  129749.351666             1781.342890  \n",
      "50655          188   0.144841  169866.430868             1685.741999  \n",
      "49751          298   0.418938   93183.845170             1659.786223  \n",
      "26366          455   0.469802  128320.075280             1650.990245  \n",
      "41331          175   0.106331  173675.473950             1639.129566  \n",
      "29888          241   0.230656   89612.381962             1594.230357  \n",
      "37238          613   0.615902   84687.683108             1582.494087  \n",
      "28920          218   1.040618   25833.372512             1546.010868  \n",
      "84079          180   0.082205  133905.212640             1531.818564  \n",
      "44546          127   0.056487  162959.246589             1470.378026  \n",
      "3791           107   0.039093  189016.577086             1394.560562  \n",
      "62183           81   0.030559  209270.985725             1355.030643  \n",
      "51320         2546  13.710351    5567.762030             1310.268284  \n",
      "16696          319   0.448461   35149.541283             1278.534223  \n",
      "58974          327   0.910325   22178.327775             1266.757179  \n",
      "83930         2546   7.846041    6518.651914             1231.972141  \n",
      "51481         1047   5.638153    7774.245214             1226.633161  \n"
     ]
    }
   ],
   "source": [
    "print('The top 20 bigrams in windows of size 3 are:')\n",
    "print(bigrams_size2_likelihood.head(20))"
   ]
  },
  {
   "attachments": {},
   "cell_type": "markdown",
   "metadata": {},
   "source": [
    "Part 3"
   ]
  },
  {
   "cell_type": "code",
   "execution_count": 320,
   "metadata": {},
   "outputs": [
    {
     "data": {
      "text/html": [
       "<div>\n",
       "<style scoped>\n",
       "    .dataframe tbody tr th:only-of-type {\n",
       "        vertical-align: middle;\n",
       "    }\n",
       "\n",
       "    .dataframe tbody tr th {\n",
       "        vertical-align: top;\n",
       "    }\n",
       "\n",
       "    .dataframe thead th {\n",
       "        text-align: right;\n",
       "    }\n",
       "</style>\n",
       "<table border=\"1\" class=\"dataframe\">\n",
       "  <thead>\n",
       "    <tr style=\"text-align: right;\">\n",
       "      <th></th>\n",
       "      <th>word1</th>\n",
       "      <th>word2</th>\n",
       "      <th>counts</th>\n",
       "      <th>t-score</th>\n",
       "      <th>word1_count</th>\n",
       "      <th>word2_count</th>\n",
       "      <th>expected</th>\n",
       "      <th>chi-square</th>\n",
       "      <th>likelihood_ratio_score</th>\n",
       "    </tr>\n",
       "  </thead>\n",
       "  <tbody>\n",
       "    <tr>\n",
       "      <th>8917</th>\n",
       "      <td>head</td>\n",
       "      <td>clerk</td>\n",
       "      <td>22</td>\n",
       "      <td>4.598527</td>\n",
       "      <td>798</td>\n",
       "      <td>136</td>\n",
       "      <td>0.430995</td>\n",
       "      <td>1079.413746</td>\n",
       "      <td>134.120965</td>\n",
       "    </tr>\n",
       "  </tbody>\n",
       "</table>\n",
       "</div>"
      ],
      "text/plain": [
       "     word1  word2  counts   t-score  word1_count  word2_count  expected  \\\n",
       "8917  head  clerk      22  4.598527          798          136  0.430995   \n",
       "\n",
       "       chi-square  likelihood_ratio_score  \n",
       "8917  1079.413746              134.120965  "
      ]
     },
     "execution_count": 320,
     "metadata": {},
     "output_type": "execute_result"
    }
   ],
   "source": [
    "bigrams_size1_likelihood[(bigrams_size1_likelihood['word1']=='head') & (bigrams_size1_likelihood['word2']=='clerk')]"
   ]
  },
  {
   "cell_type": "code",
   "execution_count": 321,
   "metadata": {},
   "outputs": [
    {
     "data": {
      "text/html": [
       "<div>\n",
       "<style scoped>\n",
       "    .dataframe tbody tr th:only-of-type {\n",
       "        vertical-align: middle;\n",
       "    }\n",
       "\n",
       "    .dataframe tbody tr th {\n",
       "        vertical-align: top;\n",
       "    }\n",
       "\n",
       "    .dataframe thead th {\n",
       "        text-align: right;\n",
       "    }\n",
       "</style>\n",
       "<table border=\"1\" class=\"dataframe\">\n",
       "  <thead>\n",
       "    <tr style=\"text-align: right;\">\n",
       "      <th></th>\n",
       "      <th>word1</th>\n",
       "      <th>word2</th>\n",
       "      <th>counts</th>\n",
       "      <th>t-score</th>\n",
       "      <th>word1_count</th>\n",
       "      <th>word2_count</th>\n",
       "      <th>expected</th>\n",
       "      <th>chi-square</th>\n",
       "      <th>likelihood_ratio_score</th>\n",
       "    </tr>\n",
       "  </thead>\n",
       "  <tbody>\n",
       "    <tr>\n",
       "      <th>8462</th>\n",
       "      <td>great</td>\n",
       "      <td>man</td>\n",
       "      <td>18</td>\n",
       "      <td>1.378086</td>\n",
       "      <td>1202</td>\n",
       "      <td>2546</td>\n",
       "      <td>12.153276</td>\n",
       "      <td>2.812755</td>\n",
       "      <td>2.488797</td>\n",
       "    </tr>\n",
       "  </tbody>\n",
       "</table>\n",
       "</div>"
      ],
      "text/plain": [
       "      word1 word2  counts   t-score  word1_count  word2_count   expected  \\\n",
       "8462  great   man      18  1.378086         1202         2546  12.153276   \n",
       "\n",
       "      chi-square  likelihood_ratio_score  \n",
       "8462    2.812755                2.488797  "
      ]
     },
     "execution_count": 321,
     "metadata": {},
     "output_type": "execute_result"
    }
   ],
   "source": [
    "bigrams_size1_likelihood[(bigrams_size1_likelihood['word1']=='great') & (bigrams_size1_likelihood['word2']=='man')]"
   ]
  },
  {
   "cell_type": "code",
   "execution_count": 262,
   "metadata": {},
   "outputs": [],
   "source": [
    "import dataframe_image as dfi\n",
    "dfi.export(bigrams_size1_likelihood.head(),\"mytableFinal.png\")"
   ]
  }
 ],
 "metadata": {
  "kernelspec": {
   "display_name": "Python (base)",
   "language": "python",
   "name": "base"
  },
  "language_info": {
   "codemirror_mode": {
    "name": "ipython",
    "version": 3
   },
   "file_extension": ".py",
   "mimetype": "text/x-python",
   "name": "python",
   "nbconvert_exporter": "python",
   "pygments_lexer": "ipython3",
   "version": "3.9.7"
  },
  "orig_nbformat": 4
 },
 "nbformat": 4,
 "nbformat_minor": 2
}
